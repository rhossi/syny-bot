{
 "cells": [
  {
   "cell_type": "code",
   "execution_count": 3,
   "metadata": {},
   "outputs": [],
   "source": [
    "from langchain_community.utilities import SQLDatabase\n",
    "from langchain.chains import create_sql_query_chain\n",
    "from langchain_openai import ChatOpenAI\n",
    "from langchain_core.prompts import FewShotPromptTemplate, PromptTemplate\n",
    "from langchain_community.vectorstores import FAISS\n",
    "from langchain_core.example_selectors import SemanticSimilarityExampleSelector\n",
    "from langchain_openai import OpenAIEmbeddings"
   ]
  },
  {
   "cell_type": "code",
   "execution_count": 8,
   "metadata": {},
   "outputs": [
    {
     "data": {
      "text/plain": [
       "'SELECT COUNT(*) AS gas_readings_count\\nFROM historic_data\\nWHERE category = \"captured\" AND kind = \"gas\";'"
      ]
     },
     "execution_count": 8,
     "metadata": {},
     "output_type": "execute_result"
    }
   ],
   "source": [
    "CUSTOMER_ID = \"00000000-6360-4bbb-f78c-b5001f9e006c\"\n",
    "\n",
    "db = SQLDatabase.from_uri(\"sqlite:///syny.db\", sample_rows_in_table_info=3)\n",
    "context = db.get_context()\n",
    "\n",
    "llm = ChatOpenAI()\n",
    "chain = create_sql_query_chain(llm, db)\n",
    "\n",
    "chain = create_sql_query_chain(llm, db)\n",
    "response = chain.invoke({\"question\": \"Quantas leituras para gas?\"})\n",
    "response"
   ]
  },
  {
   "cell_type": "code",
   "execution_count": 19,
   "metadata": {},
   "outputs": [],
   "source": [
    "from langchain_core.messages import SystemMessage\n",
    "\n",
    "SQL_PREFIX = \"\"\"You are an agent designed to interact with a SQL database.\n",
    "Given an input question, create a syntactically correct SQLite query to run, then look at the results of the query and return the answer.\n",
    "Unless the user specifies a specific number of examples they wish to obtain, always limit your query to at most 5 results.\n",
    "You can order the results by a relevant column to return the most interesting examples in the database.\n",
    "Never query for all the columns from a specific table, only ask for the relevant columns given the question.\n",
    "You have access to tools for interacting with the database.\n",
    "Only use the below tools. Only use the information returned by the below tools to construct your final answer.\n",
    "You MUST double check your query before executing it. If you get an error while executing a query, rewrite the query and try again.\n",
    "\n",
    "DO NOT make any DML statements (INSERT, UPDATE, DELETE, DROP etc.) to the database.\n",
    "\n",
    "DO NOT list table name or any information about the schema.\n",
    "\n",
    "Only use the tables below\\n\\n\n",
    "CREATE TABLE IF NOT EXISTS \"historic_data\"(\n",
    "\"device_twin_variable_history_id\" TEXT, \"device_twin_id\" TEXT, \"customer_id\" TEXT, \"device_twin_variable_id\" TEXT,\n",
    " \"name\" TEXT, \"category\" TEXT, \"type\" TEXT, \"kind\" TEXT,\n",
    " \"value\" TEXT, \"unit\" TEXT, \"meta\" TEXT, \"created_at\" TEXT,\n",
    " \"alias\" TEXT);\n",
    "\n",
    " Some tips on how to query the historic_data table\n",
    " To measure consumption aggregate by the value column.\n",
    "\n",
    " To measure consumption by utility, filter by the type column.\n",
    "\n",
    " To query for a specific time window filter by created_at column.\n",
    "\n",
    " To query for a specific customer filter by the customer_id column.\n",
    " \"\"\"\n",
    "\n",
    "system_message = SystemMessage(content=SQL_PREFIX)"
   ]
  },
  {
   "cell_type": "code",
   "execution_count": 20,
   "metadata": {},
   "outputs": [
    {
     "name": "stdout",
     "output_type": "stream",
     "text": [
      "You are a SQLite expert. Given an input question, first create a syntactically correct SQLite query to run, then look at the results of the query and return the answer to the input question.\n",
      "Unless the user specifies in the question a specific number of examples to obtain, query for at most 5 results using the LIMIT clause as per SQLite. You can order the results to return the most informative data in the database.\n",
      "Never query for all columns from a table. You must query only the columns that are needed to answer the question. Wrap each column name in double quotes (\") to denote them as delimited identifiers.\n",
      "Pay attention to use only the column names you can see in the tables below. Be careful to not query for columns that do not exist. Also, pay attention to which column is in which table.\n",
      "Pay attention to use date('now') function to get the current date, if the question involves \"today\".\n",
      "\n",
      "Use the following format:\n",
      "\n",
      "Question: Question here\n",
      "SQLQuery: SQL Query to run\n",
      "SQLResult: Result of the SQLQuery\n",
      "Answer: Final answer here\n",
      "\n",
      "Only use the following tables:\n",
      "\n",
      "CREATE TABLE historic_data (\n",
      "\tdevice_twin_variable_history_id TEXT, \n",
      "\tdevice_twin_id TEXT, \n",
      "\tcustomer_id TEXT, \n",
      "\tdevice_twin_variable_id TEXT, \n",
      "\tname TEXT, \n",
      "\tcategory TEXT, \n",
      "\ttype TEXT, \n",
      "\tkind TEXT, \n",
      "\tvalue TEXT, \n",
      "\tunit TEXT, \n",
      "\tmeta TEXT, \n",
      "\tcreated_at TEXT, \n",
      "\talias TEXT\n",
      ")\n",
      "\n",
      "/*\n",
      "3 rows from historic_data table:\n",
      "device_twin_variable_history_id\tdevice_twin_id\tcustomer_id\tdevice_twin_variable_id\tname\tcategory\ttype\tkind\tvalue\tunit\tmeta\tcreated_at\talias\n",
      "00000000-6440-9aad-7ce4-be001f279324\t212e4664-bbf2-41ac-be7e-2d9deb99614c\t00000000-6360-1f88-5f68-200021a1207f\t00000000-6440-9aad-7ce4-be001f279321\tStatus\tcaptured\twater\tcold\t1\tunknown\tNULL\t2023-04-20 01:51:41.756\tauxiliary\n",
      "00000000-6440-9aad-7ce4-be001f279326\t212e4664-bbf2-41ac-be7e-2d9deb99614c\t00000000-6360-1f88-5f68-200021a1207f\t00000000-6440-9aad-7ce4-be001f279322\tLow Bat\thardware\tbattery\tunknown\t0\tunknown\tNULL\t2023-04-20 01:51:41.775\tinfo\n",
      "00000000-6440-9aad-7ce4-b\n"
     ]
    }
   ],
   "source": [
    "from langchain_core.messages import HumanMessage\n",
    "from langgraph.prebuilt import create_react_agent\n",
    "from langchain_community.agent_toolkits import SQLDatabaseToolkit\n",
    "\n",
    "toolkit = SQLDatabaseToolkit(db=db, llm=llm)\n",
    "\n",
    "tools = toolkit.get_tools()\n",
    "\n",
    "agent_executor = create_react_agent(llm, tools, messages_modifier=system_message)\n",
    "\n",
    "prompt_with_context = chain.get_prompts()[0].partial(table_info=context[\"table_info\"])\n",
    "print(prompt_with_context.pretty_repr()[:2000])"
   ]
  },
  {
   "cell_type": "code",
   "execution_count": 16,
   "metadata": {},
   "outputs": [
    {
     "name": "stdout",
     "output_type": "stream",
     "text": [
      "{'agent': {'messages': [AIMessage(content='', additional_kwargs={'tool_calls': [{'id': 'call_5TcFXRgvtPyvNsC7nbjnAqqb', 'function': {'arguments': '{\"query\":\"SELECT SUM(consumo_gas) AS total_consumo_gas FROM table\"}', 'name': 'sql_db_query'}, 'type': 'function'}]}, response_metadata={'token_usage': {'completion_tokens': 28, 'prompt_tokens': 569, 'total_tokens': 597}, 'model_name': 'gpt-3.5-turbo', 'system_fingerprint': None, 'finish_reason': 'tool_calls', 'logprobs': None}, id='run-6b8789f1-329b-466d-984c-69e36f7398a9-0', tool_calls=[{'name': 'sql_db_query', 'args': {'query': 'SELECT SUM(consumo_gas) AS total_consumo_gas FROM table'}, 'id': 'call_5TcFXRgvtPyvNsC7nbjnAqqb'}], usage_metadata={'input_tokens': 569, 'output_tokens': 28, 'total_tokens': 597})]}}\n",
      "----\n",
      "{'tools': {'messages': [ToolMessage(content='Error: (sqlite3.OperationalError) near \"table\": syntax error\\n[SQL: SELECT SUM(consumo_gas) AS total_consumo_gas FROM table]\\n(Background on this error at: https://sqlalche.me/e/20/e3q8)', name='sql_db_query', tool_call_id='call_5TcFXRgvtPyvNsC7nbjnAqqb')]}}\n",
      "----\n",
      "{'agent': {'messages': [AIMessage(content='', additional_kwargs={'tool_calls': [{'id': 'call_NYX0dhXHloPhAk2Adyn94qSo', 'function': {'arguments': '{}', 'name': 'sql_db_list_tables'}, 'type': 'function'}]}, response_metadata={'token_usage': {'completion_tokens': 12, 'prompt_tokens': 662, 'total_tokens': 674}, 'model_name': 'gpt-3.5-turbo', 'system_fingerprint': None, 'finish_reason': 'tool_calls', 'logprobs': None}, id='run-adb861a6-2e1e-4645-9cc4-dc3653c74c89-0', tool_calls=[{'name': 'sql_db_list_tables', 'args': {}, 'id': 'call_NYX0dhXHloPhAk2Adyn94qSo'}], usage_metadata={'input_tokens': 662, 'output_tokens': 12, 'total_tokens': 674})]}}\n",
      "----\n",
      "{'tools': {'messages': [ToolMessage(content='historic_data', name='sql_db_list_tables', tool_call_id='call_NYX0dhXHloPhAk2Adyn94qSo')]}}\n",
      "----\n",
      "{'agent': {'messages': [AIMessage(content='', additional_kwargs={'tool_calls': [{'id': 'call_cdppCdEx011WsRRO7evGDhbN', 'function': {'arguments': '{\"table_names\":\"historic_data\"}', 'name': 'sql_db_schema'}, 'type': 'function'}]}, response_metadata={'token_usage': {'completion_tokens': 17, 'prompt_tokens': 686, 'total_tokens': 703}, 'model_name': 'gpt-3.5-turbo', 'system_fingerprint': None, 'finish_reason': 'tool_calls', 'logprobs': None}, id='run-3e1b105e-ed70-4d75-a8fd-43d818176b02-0', tool_calls=[{'name': 'sql_db_schema', 'args': {'table_names': 'historic_data'}, 'id': 'call_cdppCdEx011WsRRO7evGDhbN'}], usage_metadata={'input_tokens': 686, 'output_tokens': 17, 'total_tokens': 703})]}}\n",
      "----\n",
      "{'tools': {'messages': [ToolMessage(content='\\nCREATE TABLE historic_data (\\n\\tdevice_twin_variable_history_id TEXT, \\n\\tdevice_twin_id TEXT, \\n\\tcustomer_id TEXT, \\n\\tdevice_twin_variable_id TEXT, \\n\\tname TEXT, \\n\\tcategory TEXT, \\n\\ttype TEXT, \\n\\tkind TEXT, \\n\\tvalue TEXT, \\n\\tunit TEXT, \\n\\tmeta TEXT, \\n\\tcreated_at TEXT, \\n\\talias TEXT\\n)\\n\\n/*\\n3 rows from historic_data table:\\ndevice_twin_variable_history_id\\tdevice_twin_id\\tcustomer_id\\tdevice_twin_variable_id\\tname\\tcategory\\ttype\\tkind\\tvalue\\tunit\\tmeta\\tcreated_at\\talias\\n00000000-6440-9aad-7ce4-be001f279324\\t212e4664-bbf2-41ac-be7e-2d9deb99614c\\t00000000-6360-1f88-5f68-200021a1207f\\t00000000-6440-9aad-7ce4-be001f279321\\tStatus\\tcaptured\\twater\\tcold\\t1\\tunknown\\tNULL\\t2023-04-20 01:51:41.756\\tauxiliary\\n00000000-6440-9aad-7ce4-be001f279326\\t212e4664-bbf2-41ac-be7e-2d9deb99614c\\t00000000-6360-1f88-5f68-200021a1207f\\t00000000-6440-9aad-7ce4-be001f279322\\tLow Bat\\thardware\\tbattery\\tunknown\\t0\\tunknown\\tNULL\\t2023-04-20 01:51:41.775\\tinfo\\n00000000-6440-9aad-7ce4-be001f279328\\t212e4664-bbf2-41ac-be7e-2d9deb99614c\\t00000000-6360-1f88-5f68-200021a1207f\\t00000000-6440-9aad-7ce4-be001f279323\\tKeep Alive\\tunknown\\tunknown\\tunknown\\t240\\tmin\\tNULL\\t2023-04-20 01:51:41.796\\tauxiliary\\n*/', name='sql_db_schema', tool_call_id='call_cdppCdEx011WsRRO7evGDhbN')]}}\n",
      "----\n",
      "{'agent': {'messages': [AIMessage(content='A tabela que contém informações sobre o consumo de gás não está disponível. No entanto, posso verificar se há informações relevantes em outras tabelas. Posso ajudar com mais alguma coisa?', response_metadata={'token_usage': {'completion_tokens': 45, 'prompt_tokens': 1164, 'total_tokens': 1209}, 'model_name': 'gpt-3.5-turbo', 'system_fingerprint': None, 'finish_reason': 'stop', 'logprobs': None}, id='run-f782c3b2-3149-42c3-9790-2a117e069477-0', usage_metadata={'input_tokens': 1164, 'output_tokens': 45, 'total_tokens': 1209})]}}\n",
      "----\n"
     ]
    }
   ],
   "source": [
    "for s in agent_executor.stream(\n",
    "    {\"messages\": [HumanMessage(content=\"Qual o total de consumo de gas?\")]}\n",
    "):\n",
    "    print(s)\n",
    "    print(\"----\")"
   ]
  }
 ],
 "metadata": {
  "kernelspec": {
   "display_name": "syny-bot",
   "language": "python",
   "name": "python3"
  },
  "language_info": {
   "codemirror_mode": {
    "name": "ipython",
    "version": 3
   },
   "file_extension": ".py",
   "mimetype": "text/x-python",
   "name": "python",
   "nbconvert_exporter": "python",
   "pygments_lexer": "ipython3",
   "version": "3.12.4"
  }
 },
 "nbformat": 4,
 "nbformat_minor": 2
}
